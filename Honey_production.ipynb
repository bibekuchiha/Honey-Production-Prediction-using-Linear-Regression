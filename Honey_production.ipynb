{
  "nbformat": 4,
  "nbformat_minor": 0,
  "metadata": {
    "colab": {
      "name": "Honey_production.ipynb",
      "provenance": [],
      "toc_visible": true,
      "authorship_tag": "ABX9TyPrfK9Zf+t/QCwFDdvO5LnB",
      "include_colab_link": true
    },
    "kernelspec": {
      "name": "python3",
      "display_name": "Python 3"
    }
  },
  "cells": [
    {
      "cell_type": "markdown",
      "metadata": {
        "id": "view-in-github",
        "colab_type": "text"
      },
      "source": [
        "<a href=\"https://colab.research.google.com/github/bibekuchiha/Honey-Production-Prediction-using-Linear-Regression/blob/master/Honey_production.ipynb\" target=\"_parent\"><img src=\"https://colab.research.google.com/assets/colab-badge.svg\" alt=\"Open In Colab\"/></a>"
      ]
    },
    {
      "cell_type": "markdown",
      "metadata": {
        "id": "9bAyhY7RItQP",
        "colab_type": "text"
      },
      "source": [
        "#Honey Production\n",
        "\n",
        "The honeybees are in a precarious state right now. You may have seen articles about the decline of the honeybee population for various reasons. You want to investigate this decline and how the trends of the past predict the future for the honeybees.\n",
        "\n",
        "We have loaded in a DataFrame for you about honey production in the United States from Kaggle. It is called df and has the following columns:\n",
        "\n",
        "* state\n",
        "*   numcol\n",
        "*   yieldpercol\n",
        "*  totalprod\n",
        "*   stocks\n",
        "*   priceperlb\n",
        "* prodvalue\n",
        "* year"
      ]
    },
    {
      "cell_type": "code",
      "metadata": {
        "id": "JWfKCeeaIrT9",
        "colab_type": "code",
        "colab": {}
      },
      "source": [
        "#importing necessary libraries\n",
        "import pandas as pd\n",
        "import matplotlib.pyplot as plt\n",
        "import numpy as np\n",
        "from sklearn import linear_model\n",
        "from sklearn.linear_model import LinearRegression"
      ],
      "execution_count": 1,
      "outputs": []
    },
    {
      "cell_type": "code",
      "metadata": {
        "id": "KnZMPXqwJ2_U",
        "colab_type": "code",
        "colab": {
          "base_uri": "https://localhost:8080/",
          "height": 204
        },
        "outputId": "7203dc02-bacb-4e9c-833d-783622d6c119"
      },
      "source": [
        "#Loading datasets\n",
        "df = pd.read_csv(\"honeyproduction.csv\")\n",
        "df.head()"
      ],
      "execution_count": 3,
      "outputs": [
        {
          "output_type": "execute_result",
          "data": {
            "text/html": [
              "<div>\n",
              "<style scoped>\n",
              "    .dataframe tbody tr th:only-of-type {\n",
              "        vertical-align: middle;\n",
              "    }\n",
              "\n",
              "    .dataframe tbody tr th {\n",
              "        vertical-align: top;\n",
              "    }\n",
              "\n",
              "    .dataframe thead th {\n",
              "        text-align: right;\n",
              "    }\n",
              "</style>\n",
              "<table border=\"1\" class=\"dataframe\">\n",
              "  <thead>\n",
              "    <tr style=\"text-align: right;\">\n",
              "      <th></th>\n",
              "      <th>state</th>\n",
              "      <th>numcol</th>\n",
              "      <th>yieldpercol</th>\n",
              "      <th>totalprod</th>\n",
              "      <th>stocks</th>\n",
              "      <th>priceperlb</th>\n",
              "      <th>prodvalue</th>\n",
              "      <th>year</th>\n",
              "    </tr>\n",
              "  </thead>\n",
              "  <tbody>\n",
              "    <tr>\n",
              "      <th>0</th>\n",
              "      <td>AL</td>\n",
              "      <td>16000.0</td>\n",
              "      <td>71</td>\n",
              "      <td>1136000.0</td>\n",
              "      <td>159000.0</td>\n",
              "      <td>0.72</td>\n",
              "      <td>818000.0</td>\n",
              "      <td>1998</td>\n",
              "    </tr>\n",
              "    <tr>\n",
              "      <th>1</th>\n",
              "      <td>AZ</td>\n",
              "      <td>55000.0</td>\n",
              "      <td>60</td>\n",
              "      <td>3300000.0</td>\n",
              "      <td>1485000.0</td>\n",
              "      <td>0.64</td>\n",
              "      <td>2112000.0</td>\n",
              "      <td>1998</td>\n",
              "    </tr>\n",
              "    <tr>\n",
              "      <th>2</th>\n",
              "      <td>AR</td>\n",
              "      <td>53000.0</td>\n",
              "      <td>65</td>\n",
              "      <td>3445000.0</td>\n",
              "      <td>1688000.0</td>\n",
              "      <td>0.59</td>\n",
              "      <td>2033000.0</td>\n",
              "      <td>1998</td>\n",
              "    </tr>\n",
              "    <tr>\n",
              "      <th>3</th>\n",
              "      <td>CA</td>\n",
              "      <td>450000.0</td>\n",
              "      <td>83</td>\n",
              "      <td>37350000.0</td>\n",
              "      <td>12326000.0</td>\n",
              "      <td>0.62</td>\n",
              "      <td>23157000.0</td>\n",
              "      <td>1998</td>\n",
              "    </tr>\n",
              "    <tr>\n",
              "      <th>4</th>\n",
              "      <td>CO</td>\n",
              "      <td>27000.0</td>\n",
              "      <td>72</td>\n",
              "      <td>1944000.0</td>\n",
              "      <td>1594000.0</td>\n",
              "      <td>0.70</td>\n",
              "      <td>1361000.0</td>\n",
              "      <td>1998</td>\n",
              "    </tr>\n",
              "  </tbody>\n",
              "</table>\n",
              "</div>"
            ],
            "text/plain": [
              "  state    numcol  yieldpercol  ...  priceperlb   prodvalue  year\n",
              "0    AL   16000.0           71  ...        0.72    818000.0  1998\n",
              "1    AZ   55000.0           60  ...        0.64   2112000.0  1998\n",
              "2    AR   53000.0           65  ...        0.59   2033000.0  1998\n",
              "3    CA  450000.0           83  ...        0.62  23157000.0  1998\n",
              "4    CO   27000.0           72  ...        0.70   1361000.0  1998\n",
              "\n",
              "[5 rows x 8 columns]"
            ]
          },
          "metadata": {
            "tags": []
          },
          "execution_count": 3
        }
      ]
    },
    {
      "cell_type": "code",
      "metadata": {
        "id": "dY3aLEPqKFML",
        "colab_type": "code",
        "colab": {
          "base_uri": "https://localhost:8080/",
          "height": 289
        },
        "outputId": "38ea6646-4281-4eef-e242-a2bc3fee534a"
      },
      "source": [
        "#For now, we care about the total production of honey per year.\n",
        "prod_per_year = df.groupby('year')['totalprod'].mean().reset_index()\n",
        "print(prod_per_year)\n"
      ],
      "execution_count": 5,
      "outputs": [
        {
          "output_type": "stream",
          "text": [
            "    year     totalprod\n",
            "0   1998  5.105093e+06\n",
            "1   1999  4.706674e+06\n",
            "2   2000  5.106000e+06\n",
            "3   2001  4.221545e+06\n",
            "4   2002  3.892386e+06\n",
            "5   2003  4.122091e+06\n",
            "6   2004  4.456805e+06\n",
            "7   2005  4.243146e+06\n",
            "8   2006  3.761902e+06\n",
            "9   2007  3.600512e+06\n",
            "10  2008  3.974927e+06\n",
            "11  2009  3.626700e+06\n",
            "12  2010  4.382350e+06\n",
            "13  2011  3.680025e+06\n",
            "14  2012  3.522675e+06\n"
          ],
          "name": "stdout"
        }
      ]
    },
    {
      "cell_type": "markdown",
      "metadata": {
        "id": "ouge_UF8Kd2y",
        "colab_type": "text"
      },
      "source": [
        "Create a variable called X that is the column of years in this prod_per_year DataFrame.\n",
        "\n",
        "After creating X, we will need to reshape it to get it into the right format, using this command:"
      ]
    },
    {
      "cell_type": "code",
      "metadata": {
        "id": "QOss-suKKK3B",
        "colab_type": "code",
        "colab": {
          "base_uri": "https://localhost:8080/",
          "height": 272
        },
        "outputId": "d57fa8e0-fbeb-4ba1-d8a0-b58787c8d905"
      },
      "source": [
        "X = prod_per_year['year']\n",
        "X = X.values.reshape(-1,1)\n",
        "print(X)"
      ],
      "execution_count": 6,
      "outputs": [
        {
          "output_type": "stream",
          "text": [
            "[[1998]\n",
            " [1999]\n",
            " [2000]\n",
            " [2001]\n",
            " [2002]\n",
            " [2003]\n",
            " [2004]\n",
            " [2005]\n",
            " [2006]\n",
            " [2007]\n",
            " [2008]\n",
            " [2009]\n",
            " [2010]\n",
            " [2011]\n",
            " [2012]]\n"
          ],
          "name": "stdout"
        }
      ]
    },
    {
      "cell_type": "markdown",
      "metadata": {
        "id": "T27IUxjmKj-r",
        "colab_type": "text"
      },
      "source": [
        "Create a variable called y that is the totalprod column in the prod_per_year dataset."
      ]
    },
    {
      "cell_type": "code",
      "metadata": {
        "id": "Q5tIGQ6PKlqA",
        "colab_type": "code",
        "colab": {
          "base_uri": "https://localhost:8080/",
          "height": 289
        },
        "outputId": "83e3527b-2ec7-4810-ca5d-63b0012d9dfc"
      },
      "source": [
        "y = prod_per_year['totalprod']\n",
        "print(y)"
      ],
      "execution_count": 7,
      "outputs": [
        {
          "output_type": "stream",
          "text": [
            "0     5.105093e+06\n",
            "1     4.706674e+06\n",
            "2     5.106000e+06\n",
            "3     4.221545e+06\n",
            "4     3.892386e+06\n",
            "5     4.122091e+06\n",
            "6     4.456805e+06\n",
            "7     4.243146e+06\n",
            "8     3.761902e+06\n",
            "9     3.600512e+06\n",
            "10    3.974927e+06\n",
            "11    3.626700e+06\n",
            "12    4.382350e+06\n",
            "13    3.680025e+06\n",
            "14    3.522675e+06\n",
            "Name: totalprod, dtype: float64\n"
          ],
          "name": "stdout"
        }
      ]
    },
    {
      "cell_type": "code",
      "metadata": {
        "id": "Sfwj6sCHKrQA",
        "colab_type": "code",
        "colab": {
          "base_uri": "https://localhost:8080/",
          "height": 295
        },
        "outputId": "bc990174-924c-47c9-82d0-6136ada425e8"
      },
      "source": [
        "#plot y vs X as a scatterplot.\n",
        "plt.scatter(X,y)\n",
        "plt.xlabel('Year')\n",
        "plt.ylabel('Production')\n",
        "plt.title('Honey Production')\n",
        "plt.show()"
      ],
      "execution_count": 20,
      "outputs": [
        {
          "output_type": "display_data",
          "data": {
            "image/png": "[encoded data removed]",
            "text/plain": [
              "<Figure size 432x288 with 1 Axes>"
            ]
          },
          "metadata": {
            "tags": [],
            "needs_background": "light"
          }
        }
      ]
    },
    {
      "cell_type": "markdown",
      "metadata": {
        "id": "em7mjeleKwKg",
        "colab_type": "text"
      },
      "source": [
        "#Create and Fit a Linear Regression Model"
      ]
    },
    {
      "cell_type": "code",
      "metadata": {
        "id": "51oTJeO-KxDw",
        "colab_type": "code",
        "colab": {
          "base_uri": "https://localhost:8080/",
          "height": 34
        },
        "outputId": "b7f4cb22-ac9e-4913-ca69-ee8e9ad85748"
      },
      "source": [
        "#Create a linear regression model from scikit-learn and call it regr\n",
        "regr = LinearRegression()\n",
        "#Fit the model to the data\n",
        "regr.fit(X,y)\n"
      ],
      "execution_count": 9,
      "outputs": [
        {
          "output_type": "execute_result",
          "data": {
            "text/plain": [
              "LinearRegression(copy_X=True, fit_intercept=True, n_jobs=None, normalize=False)"
            ]
          },
          "metadata": {
            "tags": []
          },
          "execution_count": 9
        }
      ]
    },
    {
      "cell_type": "markdown",
      "metadata": {
        "id": "hf9BARxOK-Jv",
        "colab_type": "text"
      },
      "source": [
        "After you have fit the model, print out the slope of the line (stored in a list called regr.coef_) and the intercept of the line (regr.intercept_)."
      ]
    },
    {
      "cell_type": "code",
      "metadata": {
        "id": "AU9zy_pQK_Pn",
        "colab_type": "code",
        "colab": {
          "base_uri": "https://localhost:8080/",
          "height": 51
        },
        "outputId": "907d2032-0642-4cdd-d07e-c1df52f76d49"
      },
      "source": [
        "print(regr.coef_)\n",
        "print(regr.intercept_)"
      ],
      "execution_count": 10,
      "outputs": [
        {
          "output_type": "stream",
          "text": [
            "[-88303.18915238]\n",
            "181208083.10732976\n"
          ],
          "name": "stdout"
        }
      ]
    },
    {
      "cell_type": "markdown",
      "metadata": {
        "id": "d7yDIxyfLGgo",
        "colab_type": "text"
      },
      "source": [
        "Create a list called y_predict that is the predictions your regr model would make on the X data.\n",
        "\n",
        "\n"
      ]
    },
    {
      "cell_type": "code",
      "metadata": {
        "id": "40MBA3ktLHEw",
        "colab_type": "code",
        "colab": {}
      },
      "source": [
        "y_predict = regr.predict(X)\n"
      ],
      "execution_count": 11,
      "outputs": []
    },
    {
      "cell_type": "code",
      "metadata": {
        "id": "8b6Qha6JLLV3",
        "colab_type": "code",
        "colab": {
          "base_uri": "https://localhost:8080/",
          "height": 295
        },
        "outputId": "f8ec2a4b-5ac1-4f72-fe0c-8a62065de953"
      },
      "source": [
        "#Plot y_predict vs X as a line,\n",
        "plt.scatter(X,y)\n",
        "plt.plot(X, y_predict)\n",
        "plt.xlabel('Year')\n",
        "plt.ylabel('Production')\n",
        "plt.title('Honey Production')\n",
        "plt.show()"
      ],
      "execution_count": 21,
      "outputs": [
        {
          "output_type": "display_data",
          "data": {
            "image/png": "[encoded data removed]",
            "text/plain": [
              "<Figure size 432x288 with 1 Axes>"
            ]
          },
          "metadata": {
            "tags": [],
            "needs_background": "light"
          }
        }
      ]
    },
    {
      "cell_type": "markdown",
      "metadata": {
        "id": "W39c8tb9LQjG",
        "colab_type": "text"
      },
      "source": [
        "#Predict the Honey Decline\n",
        " Let’s predict what the year 2050 may look like in terms of honey production."
      ]
    },
    {
      "cell_type": "code",
      "metadata": {
        "id": "_4OO4awFLRRI",
        "colab_type": "code",
        "colab": {
          "base_uri": "https://localhost:8080/",
          "height": 646
        },
        "outputId": "7b090802-e620-4b62-94c3-b9a60926be94"
      },
      "source": [
        "# let’s create a NumPy array called X_future that is the range from 2013 to 2050.\n",
        "X_future = np.array(range(2013,2050))\n",
        "X_future = X_future.reshape(-1,1)\n",
        "print(X_future)"
      ],
      "execution_count": 14,
      "outputs": [
        {
          "output_type": "stream",
          "text": [
            "[[2013]\n",
            " [2014]\n",
            " [2015]\n",
            " [2016]\n",
            " [2017]\n",
            " [2018]\n",
            " [2019]\n",
            " [2020]\n",
            " [2021]\n",
            " [2022]\n",
            " [2023]\n",
            " [2024]\n",
            " [2025]\n",
            " [2026]\n",
            " [2027]\n",
            " [2028]\n",
            " [2029]\n",
            " [2030]\n",
            " [2031]\n",
            " [2032]\n",
            " [2033]\n",
            " [2034]\n",
            " [2035]\n",
            " [2036]\n",
            " [2037]\n",
            " [2038]\n",
            " [2039]\n",
            " [2040]\n",
            " [2041]\n",
            " [2042]\n",
            " [2043]\n",
            " [2044]\n",
            " [2045]\n",
            " [2046]\n",
            " [2047]\n",
            " [2048]\n",
            " [2049]]\n"
          ],
          "name": "stdout"
        }
      ]
    },
    {
      "cell_type": "markdown",
      "metadata": {
        "id": "eu5tvvhBLgBI",
        "colab_type": "text"
      },
      "source": [
        "Create a list called future_predict that is the y-values that your regr model would predict for the values of X_future."
      ]
    },
    {
      "cell_type": "code",
      "metadata": {
        "id": "33iwRxQKLh31",
        "colab_type": "code",
        "colab": {
          "base_uri": "https://localhost:8080/",
          "height": 295
        },
        "outputId": "95e085ab-7a99-4fe7-f1ee-7461b896cd7f"
      },
      "source": [
        "future_predict = regr.predict(X_future)\n",
        "#Plot future_predict vs X_future\n",
        "plt.scatter(X,y)\n",
        "plt.plot(X_future,future_predict )\n",
        "plt.xlabel('Year')\n",
        "plt.ylabel('Production')\n",
        "plt.title('Honey Production')\n",
        "plt.show()"
      ],
      "execution_count": 19,
      "outputs": [
        {
          "output_type": "display_data",
          "data": {
            "image/png": "[encoded data removed]",
            "text/plain": [
              "<Figure size 432x288 with 1 Axes>"
            ]
          },
          "metadata": {
            "tags": [],
            "needs_background": "light"
          }
        }
      ]
    }
  ]
}